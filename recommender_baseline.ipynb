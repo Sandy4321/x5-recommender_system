{
 "cells": [
  {
   "cell_type": "markdown",
   "metadata": {},
   "source": [
    "Простой бейзлайн для задачи рекомендации товаров https://retailhero.ai/c/recommender_system/overview  \n",
    "Скор ниже бейзлайна организаторов: 0.015 на валидации и 0.013 на паблике.\n",
    "\n",
    "Использованная модель неэффективна, т.к. включает только 225 самых популярных товаров и две фичи (возраст и пол).  \n",
    "Предполагается, что в докере только CPU. Поэтому используется классификатор без подддержки GPU, он очень долго тренируется.   \n",
    "Ноутбук просто показывает, как сохранять модель и метки товаров для предсказания в докере. "
   ]
  },
  {
   "cell_type": "code",
   "execution_count": 1,
   "metadata": {},
   "outputs": [],
   "source": [
    "import pandas as pd\n",
    "import numpy as np\n",
    "import pickle\n",
    "from lightgbm import LGBMClassifier\n",
    "from sklearn.preprocessing import LabelEncoder\n",
    "import joblib\n",
    "#from sklearn.model_selection import train_test_split"
   ]
  },
  {
   "cell_type": "code",
   "execution_count": 2,
   "metadata": {},
   "outputs": [],
   "source": [
    "df_clients = pd.read_csv('data/clients.csv')[['client_id', 'age','gender']]\n",
    "df_purchases = pd.read_csv('data/purchases.csv')[['client_id', 'product_id']]\n",
    "#df_products = pd.read_csv('data/products.csv')"
   ]
  },
  {
   "cell_type": "code",
   "execution_count": 3,
   "metadata": {},
   "outputs": [
    {
     "data": {
      "text/plain": [
       "42530"
      ]
     },
     "execution_count": 3,
     "metadata": {},
     "output_type": "execute_result"
    }
   ],
   "source": [
    "#Количество товаров\n",
    "df_purchases.product_id.nunique()"
   ]
  },
  {
   "cell_type": "code",
   "execution_count": 4,
   "metadata": {},
   "outputs": [],
   "source": [
    "#Оставляем только самые популярные товары для упрощенного классификатора (250 наименований из 42 тыс)\n",
    "top_product = list(df_purchases.product_id[df_purchases.product_id.value_counts(ascending=False)[0:250]])\n",
    "df_purchases =  df_purchases.loc[df_purchases['product_id'].isin(top_product)] "
   ]
  },
  {
   "cell_type": "code",
   "execution_count": 5,
   "metadata": {},
   "outputs": [
    {
     "data": {
      "text/plain": [
       "<matplotlib.axes._subplots.AxesSubplot at 0x7fa7b2caaac8>"
      ]
     },
     "execution_count": 5,
     "metadata": {},
     "output_type": "execute_result"
    },
    {
     "data": {
      "image/png": "[encoded data removed]",
      "text/plain": [
       "<Figure size 432x288 with 1 Axes>"
      ]
     },
     "metadata": {
      "needs_background": "light"
     },
     "output_type": "display_data"
    }
   ],
   "source": [
    "%matplotlib inline\n",
    "df_clients.age.clip(14, 90).hist()"
   ]
  },
  {
   "cell_type": "code",
   "execution_count": 6,
   "metadata": {},
   "outputs": [],
   "source": [
    "#удалить или исправить строки с неправильным возрастом\n",
    "#df_clients.age.clip(14, 90).value_counts(ascending=True)[0:10]\n",
    "df_clients = df_clients.loc[(df_clients['age'] >= 14) & (df_clients['age'] <= 90)]\n",
    "df_clients['age'] = df_clients['age'].astype('int8')"
   ]
  },
  {
   "cell_type": "code",
   "execution_count": 7,
   "metadata": {},
   "outputs": [
    {
     "data": {
      "text/plain": [
       "U    184375\n",
       "F    147567\n",
       "M     66351\n",
       "Name: gender, dtype: int64"
      ]
     },
     "execution_count": 7,
     "metadata": {},
     "output_type": "execute_result"
    }
   ],
   "source": [
    "df_clients.gender.value_counts(dropna=False)"
   ]
  },
  {
   "cell_type": "code",
   "execution_count": 8,
   "metadata": {},
   "outputs": [],
   "source": [
    "#Кодирование пола для модели\n",
    "df_clients['gender']=df_clients['gender'].map({'U':2, 'F':1, 'M':0}).astype('int8')"
   ]
  },
  {
   "cell_type": "markdown",
   "metadata": {},
   "source": [
    "Подготовка датасета"
   ]
  },
  {
   "cell_type": "code",
   "execution_count": 9,
   "metadata": {},
   "outputs": [
    {
     "data": {
      "text/html": [
       "<div>\n",
       "<style scoped>\n",
       "    .dataframe tbody tr th:only-of-type {\n",
       "        vertical-align: middle;\n",
       "    }\n",
       "\n",
       "    .dataframe tbody tr th {\n",
       "        vertical-align: top;\n",
       "    }\n",
       "\n",
       "    .dataframe thead th {\n",
       "        text-align: right;\n",
       "    }\n",
       "</style>\n",
       "<table border=\"1\" class=\"dataframe\">\n",
       "  <thead>\n",
       "    <tr style=\"text-align: right;\">\n",
       "      <th></th>\n",
       "      <th>client_id</th>\n",
       "      <th>age</th>\n",
       "      <th>gender</th>\n",
       "      <th>product_id</th>\n",
       "    </tr>\n",
       "  </thead>\n",
       "  <tbody>\n",
       "    <tr>\n",
       "      <th>7</th>\n",
       "      <td>000012768d</td>\n",
       "      <td>45</td>\n",
       "      <td>2</td>\n",
       "      <td>15ccaa8685</td>\n",
       "    </tr>\n",
       "    <tr>\n",
       "      <th>19</th>\n",
       "      <td>000012768d</td>\n",
       "      <td>45</td>\n",
       "      <td>2</td>\n",
       "      <td>4dcf79043e</td>\n",
       "    </tr>\n",
       "    <tr>\n",
       "      <th>20</th>\n",
       "      <td>000012768d</td>\n",
       "      <td>45</td>\n",
       "      <td>2</td>\n",
       "      <td>e6f8ac5174</td>\n",
       "    </tr>\n",
       "    <tr>\n",
       "      <th>21</th>\n",
       "      <td>000012768d</td>\n",
       "      <td>45</td>\n",
       "      <td>2</td>\n",
       "      <td>439498bce2</td>\n",
       "    </tr>\n",
       "    <tr>\n",
       "      <th>37</th>\n",
       "      <td>000012768d</td>\n",
       "      <td>45</td>\n",
       "      <td>2</td>\n",
       "      <td>5645789fdf</td>\n",
       "    </tr>\n",
       "  </tbody>\n",
       "</table>\n",
       "</div>"
      ],
      "text/plain": [
       "     client_id  age  gender  product_id\n",
       "7   000012768d   45       2  15ccaa8685\n",
       "19  000012768d   45       2  4dcf79043e\n",
       "20  000012768d   45       2  e6f8ac5174\n",
       "21  000012768d   45       2  439498bce2\n",
       "37  000012768d   45       2  5645789fdf"
      ]
     },
     "execution_count": 9,
     "metadata": {},
     "output_type": "execute_result"
    }
   ],
   "source": [
    "train = pd.merge(df_clients, df_purchases, how='left', left_on='client_id', right_on='client_id', left_index=True)\n",
    "train.head()"
   ]
  },
  {
   "cell_type": "code",
   "execution_count": 10,
   "metadata": {},
   "outputs": [],
   "source": [
    "del df_clients, df_purchases"
   ]
  },
  {
   "cell_type": "code",
   "execution_count": 11,
   "metadata": {},
   "outputs": [],
   "source": [
    "#train['age'] = train['age'].astype('int8')\n",
    "#train['gender'] = train['gender'].astype('int8')\n",
    "\n",
    "train['product_id'] = train['product_id'].astype(str)\n",
    "train['client_id'] = train['client_id'].astype(str)"
   ]
  },
  {
   "cell_type": "code",
   "execution_count": 12,
   "metadata": {},
   "outputs": [
    {
     "name": "stdout",
     "output_type": "stream",
     "text": [
      "<class 'pandas.core.frame.DataFrame'>\n",
      "Int64Index: 4195853 entries, 7 to 45786539\n",
      "Data columns (total 4 columns):\n",
      "client_id     object\n",
      "age           int8\n",
      "gender        int8\n",
      "product_id    object\n",
      "dtypes: int8(2), object(2)\n",
      "memory usage: 104.0+ MB\n"
     ]
    }
   ],
   "source": [
    "#удаляем пропуски и дубликаты\n",
    "train.drop_duplicates(keep = \"first\", inplace=True)\n",
    "train.dropna(inplace=True)\n",
    "train.info()"
   ]
  },
  {
   "cell_type": "markdown",
   "metadata": {},
   "source": [
    "Подготовка таргета"
   ]
  },
  {
   "cell_type": "code",
   "execution_count": 13,
   "metadata": {},
   "outputs": [],
   "source": [
    "feature = ['gender', 'age']\n",
    "y_train = train['product_id']#.astype(str)"
   ]
  },
  {
   "cell_type": "code",
   "execution_count": 14,
   "metadata": {},
   "outputs": [
    {
     "data": {
      "text/plain": [
       "225"
      ]
     },
     "execution_count": 14,
     "metadata": {},
     "output_type": "execute_result"
    }
   ],
   "source": [
    "y_train.nunique()"
   ]
  },
  {
   "cell_type": "code",
   "execution_count": 15,
   "metadata": {},
   "outputs": [
    {
     "data": {
      "text/plain": [
       "array([ 22,  76, 196, ...,   9,  95, 196])"
      ]
     },
     "execution_count": 15,
     "metadata": {},
     "output_type": "execute_result"
    }
   ],
   "source": [
    "le = LabelEncoder()\n",
    "le.fit_transform(y_train)\n",
    "#le.inverse_transform(y_pred)"
   ]
  },
  {
   "cell_type": "code",
   "execution_count": 16,
   "metadata": {},
   "outputs": [
    {
     "data": {
      "text/plain": [
       "['le.pkl']"
      ]
     },
     "execution_count": 16,
     "metadata": {},
     "output_type": "execute_result"
    }
   ],
   "source": [
    "#Сохраняем метки\n",
    "joblib.dump(le, 'le.pkl') \n",
    "#загрузка\n",
    "#le = joblib.load('le.pkl') "
   ]
  },
  {
   "cell_type": "markdown",
   "metadata": {},
   "source": [
    "Тренировка простой модели"
   ]
  },
  {
   "cell_type": "code",
   "execution_count": 17,
   "metadata": {},
   "outputs": [],
   "source": [
    "classifier = LGBMClassifier(objective = 'multiclass', max_depth = 6, n_estimators=100, random_state=42)"
   ]
  },
  {
   "cell_type": "code",
   "execution_count": 23,
   "metadata": {},
   "outputs": [
    {
     "name": "stdout",
     "output_type": "stream",
     "text": [
      "CPU times: user 2h 28min 12s, sys: 25 s, total: 2h 28min 37s\n",
      "Wall time: 43min 48s\n"
     ]
    },
    {
     "data": {
      "text/plain": [
       "LGBMClassifier(boosting_type='gbdt', class_weight=None, colsample_bytree=1.0,\n",
       "               importance_type='split', learning_rate=0.1, max_depth=6,\n",
       "               min_child_samples=20, min_child_weight=0.001, min_split_gain=0.0,\n",
       "               n_estimators=100, n_jobs=-1, num_leaves=31,\n",
       "               objective='multiclass', random_state=42, reg_alpha=0.0,\n",
       "               reg_lambda=0.0, silent=True, subsample=1.0,\n",
       "               subsample_for_bin=200000, subsample_freq=0)"
      ]
     },
     "execution_count": 23,
     "metadata": {},
     "output_type": "execute_result"
    }
   ],
   "source": [
    "%%time\n",
    "classifier.fit(train[feature], y_train)"
   ]
  },
  {
   "cell_type": "code",
   "execution_count": 18,
   "metadata": {},
   "outputs": [],
   "source": [
    "#Сохранение модели\n",
    "joblib.dump(classifier, 'classifier.pkl') \n",
    "#загрузка\n",
    "#classifier = joblib.load('classifier.pkl') "
   ]
  },
  {
   "cell_type": "markdown",
   "metadata": {},
   "source": [
    "Прогноз"
   ]
  },
  {
   "cell_type": "code",
   "execution_count": 20,
   "metadata": {},
   "outputs": [],
   "source": [
    "#В задче запросы поступают по одному\n",
    "y_pred = classifier.predict_proba(train[feature].head(1))"
   ]
  },
  {
   "cell_type": "code",
   "execution_count": 23,
   "metadata": {},
   "outputs": [
    {
     "data": {
      "text/plain": [
       "array([[ 14,  39, 161, 219, 138, 144, 215, 183, 176, 196, 107,  82,  27,\n",
       "         48, 200,  10, 181,  88,  18, 209,  11,  50,  70,  95,  62,  76,\n",
       "        157, 216,  22,  66]])"
      ]
     },
     "execution_count": 23,
     "metadata": {},
     "output_type": "execute_result"
    }
   ],
   "source": [
    "best_n = np.argsort(y_pred, axis=1)[:,-30:]\n",
    "best_n"
   ]
  },
  {
   "cell_type": "code",
   "execution_count": 24,
   "metadata": {
    "scrolled": true
   },
   "outputs": [
    {
     "name": "stdout",
     "output_type": "stream",
     "text": [
      "['0cbc352942', '298c1acea3', 'c5e3528190', 'f7724d5786', 'a02d521260', 'ac81544ebc', 'f43c12d228', 'de25bccdaf', 'd860464ae1', 'e6f8ac5174', '6d0f84a0ac', '5186e12ff4', '1c257c1a1b', '31dcf71bbd', 'ea27d5dc75', '080ace8748', 'dc2001d036', '5645789fdf', '113e3ace79', 'f098ee2a85', '0a46068efc', '343e841aaa', '439498bce2', '5cb93c9bc5', '3e038662c0', '4dcf79043e', 'bf07df54e1', 'f4599ca21a', '15ccaa8685', '4009f09b04']\n"
     ]
    }
   ],
   "source": [
    "recommended = list(le.inverse_transform(best_n[0]))\n",
    "print(recommended)"
   ]
  },
  {
   "cell_type": "markdown",
   "metadata": {},
   "source": [
    "В архив solution.zip необходимо положить следующие файлы:\n",
    "- metadata.json от организаторов, без изменения,\n",
    "- server.py основной код для загрузки файлов и предскзаний,\n",
    "- le.pkl метки для этой модели,  \n",
    "- classifier.pkl сама модель."
   ]
  },
  {
   "cell_type": "code",
   "execution_count": null,
   "metadata": {},
   "outputs": [],
   "source": []
  }
 ],
 "metadata": {
  "kernelspec": {
   "display_name": "Python 3",
   "language": "python",
   "name": "python3"
  },
  "language_info": {
   "codemirror_mode": {
    "name": "ipython",
    "version": 3
   },
   "file_extension": ".py",
   "mimetype": "text/x-python",
   "name": "python",
   "nbconvert_exporter": "python",
   "pygments_lexer": "ipython3",
   "version": "3.6.9"
  }
 },
 "nbformat": 4,
 "nbformat_minor": 2
}
