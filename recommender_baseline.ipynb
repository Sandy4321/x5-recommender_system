{
 "cells": [
  {
   "cell_type": "markdown",
   "metadata": {},
   "source": [
    "Простой бейзлайн для задачи рекомендации товаров https://retailhero.ai/c/recommender_system/overview  \n",
    "Скор ниже бейзлайна организаторов: 0.081 на валидации и 0.076 на паблике.\n",
    "\n",
    "Использованная модель неэффективна, т.к. включает только 225 самых популярных товаров и четыре фичи (возраст, пол, товаров в корзине, популярный товар).  \n",
    "Предполагается, что в докере только CPU. Поэтому используется классификатор без подддержки GPU, он очень долго тренируется.   \n",
    "Ноутбук просто показывает, как сохранять модель и метки товаров для предсказания в докере. "
   ]
  },
  {
   "cell_type": "code",
   "execution_count": 2,
   "metadata": {},
   "outputs": [],
   "source": [
    "import pandas as pd\n",
    "import numpy as np\n",
    "import pickle\n",
    "from lightgbm import LGBMClassifier\n",
    "from sklearn.preprocessing import LabelEncoder\n",
    "import joblib\n",
    "from sklearn.model_selection import train_test_split\n",
    "import tqdm"
   ]
  },
  {
   "cell_type": "code",
   "execution_count": 3,
   "metadata": {},
   "outputs": [],
   "source": [
    "purch_list = ['client_id', 'product_id', #'product_quantity', 'purchase_sum', \n",
    "              'transaction_datetime', 'transaction_id']\n",
    "df_clients = pd.read_csv('data/clients.csv')[['client_id', 'age','gender']]\n",
    "df_purchases = pd.read_csv('data/purchases.csv')[purch_list]\n",
    "#df_products = pd.read_csv('data/products.csv')"
   ]
  },
  {
   "cell_type": "code",
   "execution_count": 3,
   "metadata": {},
   "outputs": [
    {
     "data": {
      "text/plain": [
       "42530"
      ]
     },
     "execution_count": 3,
     "metadata": {},
     "output_type": "execute_result"
    }
   ],
   "source": [
    "#Количество товаров\n",
    "df_purchases.product_id.nunique()"
   ]
  },
  {
   "cell_type": "code",
   "execution_count": 4,
   "metadata": {},
   "outputs": [],
   "source": [
    "#Оставляем только самые популярные товары для упрощенного классификатора (250 наименований из 42 тыс)\n",
    "top_product = list(df_purchases.product_id[df_purchases.product_id.value_counts(ascending=False)])"
   ]
  },
  {
   "cell_type": "code",
   "execution_count": 5,
   "metadata": {},
   "outputs": [
    {
     "data": {
      "text/plain": [
       "<matplotlib.axes._subplots.AxesSubplot at 0x7f6efeb32f98>"
      ]
     },
     "execution_count": 5,
     "metadata": {},
     "output_type": "execute_result"
    },
    {
     "data": {
      "image/png": "[encoded data removed]",
      "text/plain": [
       "<Figure size 432x288 with 1 Axes>"
      ]
     },
     "metadata": {
      "needs_background": "light"
     },
     "output_type": "display_data"
    }
   ],
   "source": [
    "%matplotlib inline\n",
    "df_clients.age.clip(14, 90).hist()"
   ]
  },
  {
   "cell_type": "code",
   "execution_count": 6,
   "metadata": {},
   "outputs": [],
   "source": [
    "#удалить или исправить строки с неправильным возрастом\n",
    "#df_clients.age.clip(14, 90).value_counts(ascending=True)[0:10]\n",
    "df_clients = df_clients.loc[(df_clients['age'] >= 14) & (df_clients['age'] <= 90)]\n",
    "df_clients['age'] = df_clients['age'].astype('int8')"
   ]
  },
  {
   "cell_type": "code",
   "execution_count": 7,
   "metadata": {},
   "outputs": [
    {
     "data": {
      "text/plain": [
       "U    184375\n",
       "F    147567\n",
       "M     66351\n",
       "Name: gender, dtype: int64"
      ]
     },
     "execution_count": 7,
     "metadata": {},
     "output_type": "execute_result"
    }
   ],
   "source": [
    "df_clients.gender.value_counts(dropna=False)"
   ]
  },
  {
   "cell_type": "code",
   "execution_count": 8,
   "metadata": {},
   "outputs": [],
   "source": [
    "#Кодирование пола для модели\n",
    "df_clients['gender']=df_clients['gender'].map({'U':2, 'F':1, 'M':0}).astype('int8')"
   ]
  },
  {
   "cell_type": "markdown",
   "metadata": {},
   "source": [
    "Сбор инфо о клиентах и покупках в одну таблицу"
   ]
  },
  {
   "cell_type": "code",
   "execution_count": 9,
   "metadata": {},
   "outputs": [
    {
     "data": {
      "text/html": [
       "<div>\n",
       "<style scoped>\n",
       "    .dataframe tbody tr th:only-of-type {\n",
       "        vertical-align: middle;\n",
       "    }\n",
       "\n",
       "    .dataframe tbody tr th {\n",
       "        vertical-align: top;\n",
       "    }\n",
       "\n",
       "    .dataframe thead th {\n",
       "        text-align: right;\n",
       "    }\n",
       "</style>\n",
       "<table border=\"1\" class=\"dataframe\">\n",
       "  <thead>\n",
       "    <tr style=\"text-align: right;\">\n",
       "      <th></th>\n",
       "      <th>client_id</th>\n",
       "      <th>age</th>\n",
       "      <th>gender</th>\n",
       "      <th>product_id</th>\n",
       "      <th>transaction_datetime</th>\n",
       "      <th>transaction_id</th>\n",
       "    </tr>\n",
       "  </thead>\n",
       "  <tbody>\n",
       "    <tr>\n",
       "      <th>0</th>\n",
       "      <td>000012768d</td>\n",
       "      <td>45</td>\n",
       "      <td>2</td>\n",
       "      <td>9a80204f78</td>\n",
       "      <td>2018-12-01 07:12:45</td>\n",
       "      <td>7e3e2e3984</td>\n",
       "    </tr>\n",
       "    <tr>\n",
       "      <th>1</th>\n",
       "      <td>000012768d</td>\n",
       "      <td>45</td>\n",
       "      <td>2</td>\n",
       "      <td>da89ebd374</td>\n",
       "      <td>2018-12-01 07:12:45</td>\n",
       "      <td>7e3e2e3984</td>\n",
       "    </tr>\n",
       "    <tr>\n",
       "      <th>2</th>\n",
       "      <td>000012768d</td>\n",
       "      <td>45</td>\n",
       "      <td>2</td>\n",
       "      <td>0a95e1151d</td>\n",
       "      <td>2018-12-01 07:12:45</td>\n",
       "      <td>7e3e2e3984</td>\n",
       "    </tr>\n",
       "  </tbody>\n",
       "</table>\n",
       "</div>"
      ],
      "text/plain": [
       "    client_id  age  gender  product_id transaction_datetime transaction_id\n",
       "0  000012768d   45       2  9a80204f78  2018-12-01 07:12:45     7e3e2e3984\n",
       "1  000012768d   45       2  da89ebd374  2018-12-01 07:12:45     7e3e2e3984\n",
       "2  000012768d   45       2  0a95e1151d  2018-12-01 07:12:45     7e3e2e3984"
      ]
     },
     "execution_count": 9,
     "metadata": {},
     "output_type": "execute_result"
    }
   ],
   "source": [
    "X = pd.merge(df_clients, df_purchases, how='left', left_on='client_id', right_on='client_id', left_index=True)\n",
    "X.head(3)"
   ]
  },
  {
   "cell_type": "code",
   "execution_count": 10,
   "metadata": {},
   "outputs": [],
   "source": [
    "del df_clients, df_purchases"
   ]
  },
  {
   "cell_type": "markdown",
   "metadata": {},
   "source": [
    "Паблик тестируется по новым клиентам, которых нет в трейне. Поэтому для проверки качества решения выделяем отложенную выборку с новыми клиентами.   \n",
    "У некоторых клиентов в истории только одна транзакция. Их невозможно разделить на трейн и таргет. Можно удалить таких клиентов. Или можно оставить их, поместив в таргет. "
   ]
  },
  {
   "cell_type": "code",
   "execution_count": null,
   "metadata": {},
   "outputs": [],
   "source": [
    "#список уникальных клиентов, с более чем 1 транзакцией\n",
    "#unique_client = []\n",
    "#temp = X.drop_duplicates(subset=['client_id','transaction_id'], keep='last').client_id.value_counts(dropna=False)\n",
    "\n",
    "#for client_id in temp.index:\n",
    "#    if temp[client_id] > 1:\n",
    "        #print (c)\n",
    "#        unique_client.append(client_id)"
   ]
  },
  {
   "cell_type": "markdown",
   "metadata": {},
   "source": [
    "## Разделение данных на у и Х"
   ]
  },
  {
   "cell_type": "markdown",
   "metadata": {},
   "source": [
    "Таргетом будет самая последняя по времени транзакция клиента. Нам нужен список входящих в нее продуктов. Если не удаляли клиентов только с 1 транзакцией, то некоторые клиенту попадут только в таргет, по трейну у них будут пропуски, которые надо заполнить."
   ]
  },
  {
   "cell_type": "code",
   "execution_count": 11,
   "metadata": {},
   "outputs": [],
   "source": [
    "X.sort_values(\"transaction_datetime\", inplace=True)\n",
    "X.reset_index(drop=True, inplace=True)\n",
    "#train.dropna(inplace=True)"
   ]
  },
  {
   "cell_type": "code",
   "execution_count": 12,
   "metadata": {},
   "outputs": [],
   "source": [
    "#Список последних транзакций для каждого клиента\n",
    "y_last = X.drop_duplicates(subset=['client_id'], keep='last').transaction_id.unique().tolist()"
   ]
  },
  {
   "cell_type": "markdown",
   "metadata": {},
   "source": [
    "При проверке решений на сайте конкурса подается id клиента, список id купленных товаров и purchase_sum\n",
    "В 'у' будут колонки 'client_id', 'product_id'. Создаем общий датафрейм, начиная с у, и присоединяя к нему фичи."
   ]
  },
  {
   "cell_type": "code",
   "execution_count": 13,
   "metadata": {},
   "outputs": [],
   "source": [
    "#Первые фичи 'age', 'gender' добавляем в df одновременно с таргетом\n",
    "df = X[['client_id', 'product_id', 'age', 'gender']].loc[X['transaction_id'].isin(y_last)] "
   ]
  },
  {
   "cell_type": "code",
   "execution_count": 14,
   "metadata": {},
   "outputs": [],
   "source": [
    "#заменяем X на новый уже без последней транзакции\n",
    "#Х датафрейм, из которого мы будем извлекать фичи для df.\n",
    "X = X.loc[~X['transaction_id'].isin(y_last)]\n",
    "#удаляем лишние колонки\n",
    "X.drop(['transaction_datetime',], axis=1, inplace=True)"
   ]
  },
  {
   "cell_type": "markdown",
   "metadata": {},
   "source": [
    "## Новые фичи"
   ]
  },
  {
   "cell_type": "markdown",
   "metadata": {},
   "source": [
    "Добавим самый часто покупаемый продукт"
   ]
  },
  {
   "cell_type": "code",
   "execution_count": null,
   "metadata": {},
   "outputs": [],
   "source": [
    "#можно считать по 'product_quantity', но с ней какие-то проблемы на паблике\n",
    "#temp = X[['client_id', 'product_id', 'product_quantity']].groupby(['client_id', 'product_id',]).sum()\n",
    "#через моду\n",
    "#temp = X[['client_id', 'product_id']].groupby(['client_id']).agg(lambda x: pd.Series.mode(x)[0])\n",
    "#temp.reset_index(drop=False, inplace=True)\n",
    "#temp.rename(columns={'product_id': 'popular_product',}, inplace=True)"
   ]
  },
  {
   "cell_type": "code",
   "execution_count": 15,
   "metadata": {},
   "outputs": [
    {
     "data": {
      "text/html": [
       "<div>\n",
       "<style scoped>\n",
       "    .dataframe tbody tr th:only-of-type {\n",
       "        vertical-align: middle;\n",
       "    }\n",
       "\n",
       "    .dataframe tbody tr th {\n",
       "        vertical-align: top;\n",
       "    }\n",
       "\n",
       "    .dataframe thead th {\n",
       "        text-align: right;\n",
       "    }\n",
       "</style>\n",
       "<table border=\"1\" class=\"dataframe\">\n",
       "  <thead>\n",
       "    <tr style=\"text-align: right;\">\n",
       "      <th></th>\n",
       "      <th>client_id</th>\n",
       "      <th>popular_product</th>\n",
       "      <th>transaction_id</th>\n",
       "    </tr>\n",
       "  </thead>\n",
       "  <tbody>\n",
       "    <tr>\n",
       "      <th>0</th>\n",
       "      <td>56ddb01c2f</td>\n",
       "      <td>304df03bb3</td>\n",
       "      <td>226</td>\n",
       "    </tr>\n",
       "    <tr>\n",
       "      <th>1</th>\n",
       "      <td>085b23ad91</td>\n",
       "      <td>ea27d5dc75</td>\n",
       "      <td>206</td>\n",
       "    </tr>\n",
       "    <tr>\n",
       "      <th>3</th>\n",
       "      <td>876124a2e2</td>\n",
       "      <td>4009f09b04</td>\n",
       "      <td>178</td>\n",
       "    </tr>\n",
       "  </tbody>\n",
       "</table>\n",
       "</div>"
      ],
      "text/plain": [
       "    client_id popular_product  transaction_id\n",
       "0  56ddb01c2f      304df03bb3             226\n",
       "1  085b23ad91      ea27d5dc75             206\n",
       "3  876124a2e2      4009f09b04             178"
      ]
     },
     "execution_count": 15,
     "metadata": {},
     "output_type": "execute_result"
    }
   ],
   "source": [
    "#через .count()\n",
    "temp = X[['client_id', 'product_id', 'transaction_id']].groupby(['client_id', 'product_id',]).count()\n",
    "temp.sort_values(\"transaction_id\", ascending=False, inplace=True)\n",
    "temp.reset_index(drop=False, inplace=True)\n",
    "temp.rename(columns={'product_id': 'popular_product',}, inplace=True)\n",
    "temp.drop_duplicates(subset= ['client_id'], keep = \"first\", inplace=True)\n",
    "temp.head(3)"
   ]
  },
  {
   "cell_type": "code",
   "execution_count": 16,
   "metadata": {},
   "outputs": [
    {
     "data": {
      "text/plain": [
       "(2510520, 5)"
      ]
     },
     "execution_count": 16,
     "metadata": {},
     "output_type": "execute_result"
    }
   ],
   "source": [
    "df = pd.merge(df, temp[['client_id', 'popular_product']], how='left', left_on='client_id', right_on='client_id', left_index=True)\n",
    "df['popular_product'] = df['popular_product'].astype(str)\n",
    "df.shape"
   ]
  },
  {
   "cell_type": "code",
   "execution_count": 17,
   "metadata": {},
   "outputs": [],
   "source": [
    "#закодируем популярные товары для классификатора\n",
    "prod_enc = LabelEncoder()\n",
    "df['popular_product'] = prod_enc.fit_transform(df.popular_product)"
   ]
  },
  {
   "cell_type": "code",
   "execution_count": 18,
   "metadata": {},
   "outputs": [
    {
     "data": {
      "text/plain": [
       "['prod_enc.pkl']"
      ]
     },
     "execution_count": 18,
     "metadata": {},
     "output_type": "execute_result"
    }
   ],
   "source": [
    "#Сохраняем метки\n",
    "#По тренировочным данным проблем не будет, на паблике/привате возможно появление новых товаров\n",
    "joblib.dump(prod_enc, 'prod_enc.pkl') \n",
    "#загрузка\n",
    "#prod_enc = joblib.load('prod_enc.pkl') "
   ]
  },
  {
   "cell_type": "markdown",
   "metadata": {},
   "source": [
    "Список продуктов, купленных ранее"
   ]
  },
  {
   "cell_type": "code",
   "execution_count": 19,
   "metadata": {},
   "outputs": [
    {
     "data": {
      "text/html": [
       "<div>\n",
       "<style scoped>\n",
       "    .dataframe tbody tr th:only-of-type {\n",
       "        vertical-align: middle;\n",
       "    }\n",
       "\n",
       "    .dataframe tbody tr th {\n",
       "        vertical-align: top;\n",
       "    }\n",
       "\n",
       "    .dataframe thead th {\n",
       "        text-align: right;\n",
       "    }\n",
       "</style>\n",
       "<table border=\"1\" class=\"dataframe\">\n",
       "  <thead>\n",
       "    <tr style=\"text-align: right;\">\n",
       "      <th></th>\n",
       "      <th>client_id</th>\n",
       "      <th>product_past</th>\n",
       "    </tr>\n",
       "  </thead>\n",
       "  <tbody>\n",
       "    <tr>\n",
       "      <th>0</th>\n",
       "      <td>000012768d</td>\n",
       "      <td>9a80204f78 63e2eac70d c55ed13ebd 7118c66f7f ad...</td>\n",
       "    </tr>\n",
       "    <tr>\n",
       "      <th>1</th>\n",
       "      <td>000036f903</td>\n",
       "      <td>f6ad31e071 40ca9f958b ec58749ad9 746d395a83 d5...</td>\n",
       "    </tr>\n",
       "    <tr>\n",
       "      <th>2</th>\n",
       "      <td>000048b7a6</td>\n",
       "      <td>560859ac58 b4c4176fc2 981f5e9cd5 9ccb0013a6 4a...</td>\n",
       "    </tr>\n",
       "  </tbody>\n",
       "</table>\n",
       "</div>"
      ],
      "text/plain": [
       "    client_id                                       product_past\n",
       "0  000012768d  9a80204f78 63e2eac70d c55ed13ebd 7118c66f7f ad...\n",
       "1  000036f903  f6ad31e071 40ca9f958b ec58749ad9 746d395a83 d5...\n",
       "2  000048b7a6  560859ac58 b4c4176fc2 981f5e9cd5 9ccb0013a6 4a..."
      ]
     },
     "execution_count": 19,
     "metadata": {},
     "output_type": "execute_result"
    }
   ],
   "source": [
    "#Все продукты в строку\n",
    "temp = X[['client_id', 'product_id']].groupby('client_id').agg({'product_id':lambda x: ' '.join(map(str, x))})\n",
    "temp.columns = ['product_past']\n",
    "temp.reset_index(drop=False, inplace=True)\n",
    "temp.head(3)"
   ]
  },
  {
   "cell_type": "code",
   "execution_count": 20,
   "metadata": {},
   "outputs": [],
   "source": [
    "df = pd.merge(df, temp[['client_id', 'product_past']], how='left', left_on='client_id', right_on='client_id', left_index=True)"
   ]
  },
  {
   "cell_type": "markdown",
   "metadata": {},
   "source": [
    "Добавим среднее количество наименований продуктов в транзакции"
   ]
  },
  {
   "cell_type": "code",
   "execution_count": 21,
   "metadata": {},
   "outputs": [
    {
     "name": "stdout",
     "output_type": "stream",
     "text": [
      "CPU times: user 4min 39s, sys: 2.15 s, total: 4min 41s\n",
      "Wall time: 4min 41s\n"
     ]
    },
    {
     "data": {
      "text/html": [
       "<div>\n",
       "<style scoped>\n",
       "    .dataframe tbody tr th:only-of-type {\n",
       "        vertical-align: middle;\n",
       "    }\n",
       "\n",
       "    .dataframe tbody tr th {\n",
       "        vertical-align: top;\n",
       "    }\n",
       "\n",
       "    .dataframe thead th {\n",
       "        text-align: right;\n",
       "    }\n",
       "</style>\n",
       "<table border=\"1\" class=\"dataframe\">\n",
       "  <thead>\n",
       "    <tr style=\"text-align: right;\">\n",
       "      <th></th>\n",
       "      <th>client_id</th>\n",
       "      <th>transaction_id</th>\n",
       "      <th>product_id</th>\n",
       "      <th>product_len</th>\n",
       "    </tr>\n",
       "  </thead>\n",
       "  <tbody>\n",
       "    <tr>\n",
       "      <th>0</th>\n",
       "      <td>000012768d</td>\n",
       "      <td>3</td>\n",
       "      <td>44</td>\n",
       "      <td>14</td>\n",
       "    </tr>\n",
       "    <tr>\n",
       "      <th>1</th>\n",
       "      <td>000036f903</td>\n",
       "      <td>31</td>\n",
       "      <td>94</td>\n",
       "      <td>3</td>\n",
       "    </tr>\n",
       "    <tr>\n",
       "      <th>2</th>\n",
       "      <td>000048b7a6</td>\n",
       "      <td>7</td>\n",
       "      <td>43</td>\n",
       "      <td>6</td>\n",
       "    </tr>\n",
       "  </tbody>\n",
       "</table>\n",
       "</div>"
      ],
      "text/plain": [
       "    client_id  transaction_id  product_id  product_len\n",
       "0  000012768d               3          44           14\n",
       "1  000036f903              31          94            3\n",
       "2  000048b7a6               7          43            6"
      ]
     },
     "execution_count": 21,
     "metadata": {},
     "output_type": "execute_result"
    }
   ],
   "source": [
    "%%time\n",
    "temp = X[['client_id', 'transaction_id', 'product_id']].groupby(['client_id']).nunique()\n",
    "temp['product_len'] = (temp['product_id']//temp['transaction_id']).astype('int8')\n",
    "temp.drop(['client_id'], axis=1, inplace=True)\n",
    "temp.reset_index(drop=False, inplace=True)\n",
    "temp.head(3)"
   ]
  },
  {
   "cell_type": "code",
   "execution_count": 22,
   "metadata": {},
   "outputs": [],
   "source": [
    "df = pd.merge(df, temp[['client_id', 'product_len']], how='left', left_on='client_id', right_on='client_id', left_index=True)"
   ]
  },
  {
   "cell_type": "markdown",
   "metadata": {},
   "source": [
    "Среднее количество штук продуктов и среднюю сумму по транзакции"
   ]
  },
  {
   "cell_type": "code",
   "execution_count": null,
   "metadata": {},
   "outputs": [],
   "source": [
    "#temp = X[['client_id', 'product_quantity', 'purchase_sum']].groupby(['client_id']).mean().round(2)\n",
    "#temp.rename(columns={'product_quantity': 'quantity_mean','purchase_sum': 'sum_mean',}, inplace=True)\n",
    "#temp.reset_index(drop=False, inplace=True)\n",
    "#df = pd.merge(df, temp[['client_id', 'quantity_mean', 'sum_mean']], how='left', left_on='client_id', right_on='client_id', left_index=True)"
   ]
  },
  {
   "cell_type": "code",
   "execution_count": 23,
   "metadata": {},
   "outputs": [],
   "source": [
    "del temp"
   ]
  },
  {
   "cell_type": "code",
   "execution_count": 24,
   "metadata": {},
   "outputs": [
    {
     "data": {
      "text/html": [
       "<div>\n",
       "<style scoped>\n",
       "    .dataframe tbody tr th:only-of-type {\n",
       "        vertical-align: middle;\n",
       "    }\n",
       "\n",
       "    .dataframe tbody tr th {\n",
       "        vertical-align: top;\n",
       "    }\n",
       "\n",
       "    .dataframe thead th {\n",
       "        text-align: right;\n",
       "    }\n",
       "</style>\n",
       "<table border=\"1\" class=\"dataframe\">\n",
       "  <thead>\n",
       "    <tr style=\"text-align: right;\">\n",
       "      <th></th>\n",
       "      <th>client_id</th>\n",
       "      <th>product_id</th>\n",
       "      <th>age</th>\n",
       "      <th>gender</th>\n",
       "      <th>popular_product</th>\n",
       "      <th>product_past</th>\n",
       "      <th>product_len</th>\n",
       "    </tr>\n",
       "  </thead>\n",
       "  <tbody>\n",
       "    <tr>\n",
       "      <th>86039</th>\n",
       "      <td>3881df0db9</td>\n",
       "      <td>0790631182</td>\n",
       "      <td>42</td>\n",
       "      <td>2</td>\n",
       "      <td>12633</td>\n",
       "      <td>29cc958e83 bc55423f1f 23e50d7ba4 80484b7610 7e...</td>\n",
       "      <td>2.0</td>\n",
       "    </tr>\n",
       "    <tr>\n",
       "      <th>368439</th>\n",
       "      <td>f18e52be4c</td>\n",
       "      <td>5c6f164859</td>\n",
       "      <td>48</td>\n",
       "      <td>1</td>\n",
       "      <td>442</td>\n",
       "      <td>04ef82a636 22c17a4a7f da16147964 134f3dd62d 05...</td>\n",
       "      <td>4.0</td>\n",
       "    </tr>\n",
       "    <tr>\n",
       "      <th>368439</th>\n",
       "      <td>f18e52be4c</td>\n",
       "      <td>1222d52eb9</td>\n",
       "      <td>48</td>\n",
       "      <td>1</td>\n",
       "      <td>442</td>\n",
       "      <td>04ef82a636 22c17a4a7f da16147964 134f3dd62d 05...</td>\n",
       "      <td>4.0</td>\n",
       "    </tr>\n",
       "  </tbody>\n",
       "</table>\n",
       "</div>"
      ],
      "text/plain": [
       "         client_id  product_id  age  gender  popular_product  \\\n",
       "86039   3881df0db9  0790631182   42       2            12633   \n",
       "368439  f18e52be4c  5c6f164859   48       1              442   \n",
       "368439  f18e52be4c  1222d52eb9   48       1              442   \n",
       "\n",
       "                                             product_past  product_len  \n",
       "86039   29cc958e83 bc55423f1f 23e50d7ba4 80484b7610 7e...          2.0  \n",
       "368439  04ef82a636 22c17a4a7f da16147964 134f3dd62d 05...          4.0  \n",
       "368439  04ef82a636 22c17a4a7f da16147964 134f3dd62d 05...          4.0  "
      ]
     },
     "execution_count": 24,
     "metadata": {},
     "output_type": "execute_result"
    }
   ],
   "source": [
    "df.head(3)"
   ]
  },
  {
   "cell_type": "markdown",
   "metadata": {},
   "source": [
    "## Подготовка датафрейма для тренировки"
   ]
  },
  {
   "cell_type": "markdown",
   "metadata": {},
   "source": [
    "Разделение датафрейма на тренировочную, валидационную и отложенную выборки"
   ]
  },
  {
   "cell_type": "code",
   "execution_count": 25,
   "metadata": {},
   "outputs": [],
   "source": [
    "#список уникальных клиентов\n",
    "unique_client = df.client_id.unique().tolist()\n",
    "#В отложенную выбору около 10 000 клиентов\n",
    "client_train, client_hold = train_test_split(unique_client, test_size=0.03, random_state=42, \n",
    "                                             shuffle=True)\n",
    "client_train, client_valid = train_test_split(client_train, test_size=0.3, random_state=42, \n",
    "                                              shuffle=True)"
   ]
  },
  {
   "cell_type": "code",
   "execution_count": 27,
   "metadata": {},
   "outputs": [],
   "source": [
    "#Отделяем отложенную выборку от тренировочной и валидационной до удаления таргетов.\n",
    "#В отложенной выборке будут все товары\n",
    "df_hold = df.loc[X['client_id'].isin(client_hold)] "
   ]
  },
  {
   "cell_type": "code",
   "execution_count": 28,
   "metadata": {},
   "outputs": [
    {
     "data": {
      "text/plain": [
       "222"
      ]
     },
     "execution_count": 28,
     "metadata": {},
     "output_type": "execute_result"
    }
   ],
   "source": [
    "#Решаем, сколько таргетов оставить для модели классификации\n",
    "#В трейне и валидации будет сокращенное число у\n",
    "df = df.loc[df['product_id'].isin(top_product[0:250])] \n",
    "df['product_id'].nunique()"
   ]
  },
  {
   "cell_type": "code",
   "execution_count": 29,
   "metadata": {},
   "outputs": [],
   "source": [
    "#Уже сокращенную выборку делим на тренировчную и валидационную\n",
    "df_train = df.loc[X['client_id'].isin(client_train)] \n",
    "df_valid = df.loc[X['client_id'].isin(client_valid)] "
   ]
  },
  {
   "cell_type": "code",
   "execution_count": 30,
   "metadata": {},
   "outputs": [
    {
     "name": "stdout",
     "output_type": "stream",
     "text": [
      "<class 'pandas.core.frame.DataFrame'>\n",
      "Int64Index: 344644 entries, 86749 to 246882\n",
      "Data columns (total 7 columns):\n",
      "client_id          344644 non-null object\n",
      "product_id         344644 non-null object\n",
      "age                344644 non-null int8\n",
      "gender             344644 non-null int8\n",
      "popular_product    344644 non-null int64\n",
      "product_past       331836 non-null object\n",
      "product_len        331836 non-null float64\n",
      "dtypes: float64(1), int64(1), int8(2), object(3)\n",
      "memory usage: 16.4+ MB\n"
     ]
    }
   ],
   "source": [
    "df_train.info()"
   ]
  },
  {
   "cell_type": "code",
   "execution_count": null,
   "metadata": {},
   "outputs": [],
   "source": [
    "#Удяляем клиентов без истории, если не удалили раньше\n",
    "df_train.dropna(inplace=True)\n",
    "df_valid.dropna(inplace=True)"
   ]
  },
  {
   "cell_type": "code",
   "execution_count": 32,
   "metadata": {},
   "outputs": [
    {
     "data": {
      "text/html": [
       "<div>\n",
       "<style scoped>\n",
       "    .dataframe tbody tr th:only-of-type {\n",
       "        vertical-align: middle;\n",
       "    }\n",
       "\n",
       "    .dataframe tbody tr th {\n",
       "        vertical-align: top;\n",
       "    }\n",
       "\n",
       "    .dataframe thead th {\n",
       "        text-align: right;\n",
       "    }\n",
       "</style>\n",
       "<table border=\"1\" class=\"dataframe\">\n",
       "  <thead>\n",
       "    <tr style=\"text-align: right;\">\n",
       "      <th></th>\n",
       "      <th>client_id</th>\n",
       "      <th>product_id</th>\n",
       "      <th>age</th>\n",
       "      <th>gender</th>\n",
       "      <th>popular_product</th>\n",
       "      <th>product_past</th>\n",
       "      <th>product_len</th>\n",
       "    </tr>\n",
       "  </thead>\n",
       "  <tbody>\n",
       "    <tr>\n",
       "      <th>86749</th>\n",
       "      <td>38f96ca81e</td>\n",
       "      <td>f4599ca21a</td>\n",
       "      <td>43</td>\n",
       "      <td>0</td>\n",
       "      <td>2514</td>\n",
       "      <td>dc2a63ce2b 2a9cadfc04 31dcf71bbd 439498bce2 40...</td>\n",
       "      <td>4.0</td>\n",
       "    </tr>\n",
       "    <tr>\n",
       "      <th>86749</th>\n",
       "      <td>38f96ca81e</td>\n",
       "      <td>439498bce2</td>\n",
       "      <td>43</td>\n",
       "      <td>0</td>\n",
       "      <td>2514</td>\n",
       "      <td>dc2a63ce2b 2a9cadfc04 31dcf71bbd 439498bce2 40...</td>\n",
       "      <td>4.0</td>\n",
       "    </tr>\n",
       "    <tr>\n",
       "      <th>156686</th>\n",
       "      <td>66e6b7a01f</td>\n",
       "      <td>4009f09b04</td>\n",
       "      <td>45</td>\n",
       "      <td>0</td>\n",
       "      <td>4345</td>\n",
       "      <td>fc5b0d84e8 1c8164db4d 35fdf97254 113e3ace79 dc...</td>\n",
       "      <td>6.0</td>\n",
       "    </tr>\n",
       "  </tbody>\n",
       "</table>\n",
       "</div>"
      ],
      "text/plain": [
       "         client_id  product_id  age  gender  popular_product  \\\n",
       "86749   38f96ca81e  f4599ca21a   43       0             2514   \n",
       "86749   38f96ca81e  439498bce2   43       0             2514   \n",
       "156686  66e6b7a01f  4009f09b04   45       0             4345   \n",
       "\n",
       "                                             product_past  product_len  \n",
       "86749   dc2a63ce2b 2a9cadfc04 31dcf71bbd 439498bce2 40...          4.0  \n",
       "86749   dc2a63ce2b 2a9cadfc04 31dcf71bbd 439498bce2 40...          4.0  \n",
       "156686  fc5b0d84e8 1c8164db4d 35fdf97254 113e3ace79 dc...          6.0  "
      ]
     },
     "execution_count": 32,
     "metadata": {},
     "output_type": "execute_result"
    }
   ],
   "source": [
    "df_train.head(3)"
   ]
  },
  {
   "cell_type": "code",
   "execution_count": 33,
   "metadata": {},
   "outputs": [
    {
     "name": "stdout",
     "output_type": "stream",
     "text": [
      "[]\n"
     ]
    }
   ],
   "source": [
    "#Если в валидационной выборке будут продукты, не встреченные раньше, то тренировка прервется\n",
    "lost = list(set(df_valid['product_id']) - set(df_train['product_id']))\n",
    "print(lost)"
   ]
  },
  {
   "cell_type": "code",
   "execution_count": 34,
   "metadata": {},
   "outputs": [],
   "source": [
    "# удаляем lost\n",
    "df_valid = df_valid.loc[~df_valid['product_id'].isin(lost)]"
   ]
  },
  {
   "cell_type": "markdown",
   "metadata": {},
   "source": [
    "Используем LabelEncoder для меток товаров"
   ]
  },
  {
   "cell_type": "code",
   "execution_count": 35,
   "metadata": {},
   "outputs": [],
   "source": [
    "#Подразумевается, что мы не будем пытаться предскзывать новые товары\n",
    "le = LabelEncoder()\n",
    "#Кодировать только после удаления всего лишнего\n",
    "y_train = le.fit_transform(df_train['product_id'])\n",
    "y_valid = le.transform(df_valid['product_id'])\n",
    "#le.inverse_transform(y_pred)"
   ]
  },
  {
   "cell_type": "code",
   "execution_count": 36,
   "metadata": {},
   "outputs": [
    {
     "data": {
      "text/plain": [
       "array([65])"
      ]
     },
     "execution_count": 36,
     "metadata": {},
     "output_type": "execute_result"
    }
   ],
   "source": [
    "#проверка\n",
    "le.transform(['4009f09b04'])"
   ]
  },
  {
   "cell_type": "code",
   "execution_count": 37,
   "metadata": {},
   "outputs": [
    {
     "data": {
      "text/plain": [
       "['le.pkl']"
      ]
     },
     "execution_count": 37,
     "metadata": {},
     "output_type": "execute_result"
    }
   ],
   "source": [
    "#Сохраняем метки\n",
    "joblib.dump(le, 'le.pkl') \n",
    "#загрузка\n",
    "#le = joblib.load('le.pkl') "
   ]
  },
  {
   "cell_type": "markdown",
   "metadata": {},
   "source": [
    "Список фич для модели"
   ]
  },
  {
   "cell_type": "code",
   "execution_count": 38,
   "metadata": {},
   "outputs": [],
   "source": [
    "feature = ['age', 'gender', 'popular_product', 'product_len']\n",
    "cat_features = ['gender', 'popular_product', ]"
   ]
  },
  {
   "cell_type": "markdown",
   "metadata": {},
   "source": [
    "## Подготовка отложенной выборки"
   ]
  },
  {
   "cell_type": "code",
   "execution_count": 41,
   "metadata": {},
   "outputs": [],
   "source": [
    "y_hold = df_hold.groupby(\"client_id\")['product_id'].agg(lambda x: x.tolist())\n",
    "y_hold = pd.DataFrame(y_hold)\n",
    "y_hold.columns = ['product_ids']\n",
    "y_hold.reset_index(drop=False, inplace=True)"
   ]
  },
  {
   "cell_type": "code",
   "execution_count": 42,
   "metadata": {},
   "outputs": [],
   "source": [
    "#hold = hold['client_id' + feature].groupby(['client_id']).first()\n",
    "hold = df_hold[['client_id', 'age', 'gender', 'popular_product', 'product_len']].groupby(['client_id']).first()"
   ]
  },
  {
   "cell_type": "code",
   "execution_count": 43,
   "metadata": {},
   "outputs": [
    {
     "data": {
      "text/html": [
       "<div>\n",
       "<style scoped>\n",
       "    .dataframe tbody tr th:only-of-type {\n",
       "        vertical-align: middle;\n",
       "    }\n",
       "\n",
       "    .dataframe tbody tr th {\n",
       "        vertical-align: top;\n",
       "    }\n",
       "\n",
       "    .dataframe thead th {\n",
       "        text-align: right;\n",
       "    }\n",
       "</style>\n",
       "<table border=\"1\" class=\"dataframe\">\n",
       "  <thead>\n",
       "    <tr style=\"text-align: right;\">\n",
       "      <th></th>\n",
       "      <th>client_id</th>\n",
       "      <th>product_ids</th>\n",
       "      <th>age</th>\n",
       "      <th>gender</th>\n",
       "      <th>popular_product</th>\n",
       "      <th>product_len</th>\n",
       "    </tr>\n",
       "  </thead>\n",
       "  <tbody>\n",
       "    <tr>\n",
       "      <th>0</th>\n",
       "      <td>0034f7f469</td>\n",
       "      <td>[5cb93c9bc5]</td>\n",
       "      <td>71</td>\n",
       "      <td>1</td>\n",
       "      <td>15465</td>\n",
       "      <td>1.0</td>\n",
       "    </tr>\n",
       "    <tr>\n",
       "      <th>1</th>\n",
       "      <td>00350b2a7c</td>\n",
       "      <td>[15339081cb, 976eed29d2, b692cb34b0, 53fc95e17...</td>\n",
       "      <td>34</td>\n",
       "      <td>2</td>\n",
       "      <td>1054</td>\n",
       "      <td>1.0</td>\n",
       "    </tr>\n",
       "    <tr>\n",
       "      <th>2</th>\n",
       "      <td>00350e1366</td>\n",
       "      <td>[5cb93c9bc5, ac81544ebc, 2e7d93664f, 4dcf79043...</td>\n",
       "      <td>61</td>\n",
       "      <td>1</td>\n",
       "      <td>14849</td>\n",
       "      <td>3.0</td>\n",
       "    </tr>\n",
       "  </tbody>\n",
       "</table>\n",
       "</div>"
      ],
      "text/plain": [
       "    client_id                                        product_ids  age  gender  \\\n",
       "0  0034f7f469                                       [5cb93c9bc5]   71       1   \n",
       "1  00350b2a7c  [15339081cb, 976eed29d2, b692cb34b0, 53fc95e17...   34       2   \n",
       "2  00350e1366  [5cb93c9bc5, ac81544ebc, 2e7d93664f, 4dcf79043...   61       1   \n",
       "\n",
       "   popular_product  product_len  \n",
       "0            15465          1.0  \n",
       "1             1054          1.0  \n",
       "2            14849          3.0  "
      ]
     },
     "execution_count": 43,
     "metadata": {},
     "output_type": "execute_result"
    }
   ],
   "source": [
    "# заново используем df_hold для результата\n",
    "df_hold = pd.merge(y_hold, hold, how='left', left_on='client_id', right_on='client_id', left_index=True)\n",
    "df_hold.reset_index(drop=True, inplace=True)\n",
    "df_hold.head(3)"
   ]
  },
  {
   "cell_type": "code",
   "execution_count": 44,
   "metadata": {
    "scrolled": true
   },
   "outputs": [
    {
     "data": {
      "text/plain": [
       "1    [15339081cb, 976eed29d2, b692cb34b0, 53fc95e17...\n",
       "Name: product_ids, dtype: object"
      ]
     },
     "execution_count": 44,
     "metadata": {},
     "output_type": "execute_result"
    }
   ],
   "source": [
    "#Для проверки решения обращаться к у построчно по 'client_id'\n",
    "y_hold['product_ids'][y_hold.client_id == \"00350b2a7c\"]"
   ]
  },
  {
   "cell_type": "code",
   "execution_count": 45,
   "metadata": {},
   "outputs": [],
   "source": [
    "del y_hold, hold"
   ]
  },
  {
   "cell_type": "code",
   "execution_count": 46,
   "metadata": {},
   "outputs": [
    {
     "name": "stdout",
     "output_type": "stream",
     "text": [
      "<class 'pandas.core.frame.DataFrame'>\n",
      "Int64Index: 11881 entries, 0 to 11880\n",
      "Data columns (total 6 columns):\n",
      "client_id          11881 non-null object\n",
      "product_ids        11881 non-null object\n",
      "age                11881 non-null int8\n",
      "gender             11881 non-null int8\n",
      "popular_product    11881 non-null int64\n",
      "product_len        11881 non-null float64\n",
      "dtypes: float64(1), int64(1), int8(2), object(2)\n",
      "memory usage: 487.3+ KB\n"
     ]
    }
   ],
   "source": [
    "#При проверке пропуски будут проблемой\n",
    "df_hold.dropna(inplace=True)\n",
    "df_hold.info()"
   ]
  },
  {
   "cell_type": "markdown",
   "metadata": {},
   "source": [
    "## Тренировка простой модели"
   ]
  },
  {
   "cell_type": "code",
   "execution_count": 64,
   "metadata": {},
   "outputs": [],
   "source": [
    "#классификатор не подходит для этой задачи\n",
    "classifier = LGBMClassifier(objective = 'multiclass', num_leaves=4, n_estimators=100, random_state=42,\n",
    "                           subsample_freq=1, subsample=0.75, colsample_bytree=0.9, learning_rate=0.05)"
   ]
  },
  {
   "cell_type": "code",
   "execution_count": 65,
   "metadata": {},
   "outputs": [
    {
     "name": "stdout",
     "output_type": "stream",
     "text": [
      "Training until validation scores don't improve for 5 rounds.\n",
      "[5]\tvalid_0's multi_logloss: 3.75992\n",
      "[10]\tvalid_0's multi_logloss: 3.73842\n",
      "[15]\tvalid_0's multi_logloss: 3.72191\n",
      "[20]\tvalid_0's multi_logloss: 3.71131\n",
      "[25]\tvalid_0's multi_logloss: 3.70106\n",
      "[30]\tvalid_0's multi_logloss: 3.69427\n",
      "[35]\tvalid_0's multi_logloss: 3.68905\n",
      "[40]\tvalid_0's multi_logloss: 3.68627\n",
      "[45]\tvalid_0's multi_logloss: 3.68345\n",
      "[50]\tvalid_0's multi_logloss: 3.68093\n",
      "[55]\tvalid_0's multi_logloss: 3.67936\n",
      "[60]\tvalid_0's multi_logloss: 3.67872\n",
      "[65]\tvalid_0's multi_logloss: 3.67747\n",
      "[70]\tvalid_0's multi_logloss: 3.6768\n",
      "[75]\tvalid_0's multi_logloss: 3.67668\n",
      "[80]\tvalid_0's multi_logloss: 3.67664\n",
      "[85]\tvalid_0's multi_logloss: 3.67679\n",
      "Early stopping, best iteration is:\n",
      "[80]\tvalid_0's multi_logloss: 3.67664\n",
      "CPU times: user 9min 21s, sys: 1.03 s, total: 9min 22s\n",
      "Wall time: 2min 26s\n"
     ]
    },
    {
     "data": {
      "text/plain": [
       "LGBMClassifier(boosting_type='gbdt', class_weight=None, colsample_bytree=0.9,\n",
       "               importance_type='split', learning_rate=0.05, max_depth=-1,\n",
       "               min_child_samples=20, min_child_weight=0.001, min_split_gain=0.0,\n",
       "               n_estimators=100, n_jobs=-1, num_leaves=4,\n",
       "               objective='multiclass', random_state=42, reg_alpha=0.0,\n",
       "               reg_lambda=0.0, silent=True, subsample=0.75,\n",
       "               subsample_for_bin=200000, subsample_freq=1)"
      ]
     },
     "execution_count": 65,
     "metadata": {},
     "output_type": "execute_result"
    }
   ],
   "source": [
    "%%time\n",
    "classifier.fit(df_train[feature], df_train['product_id'], eval_set=[(df_valid[feature], df_valid['product_id'])], \n",
    "                early_stopping_rounds=5, verbose=5, categorical_feature = cat_features)"
   ]
  },
  {
   "cell_type": "code",
   "execution_count": 66,
   "metadata": {},
   "outputs": [
    {
     "data": {
      "text/plain": [
       "['classifier.pkl']"
      ]
     },
     "execution_count": 66,
     "metadata": {},
     "output_type": "execute_result"
    }
   ],
   "source": [
    "#Сохранение модели\n",
    "joblib.dump(classifier, 'classifier.pkl') \n",
    "#загрузка\n",
    "#classifier = joblib.load('classifier.pkl') "
   ]
  },
  {
   "cell_type": "markdown",
   "metadata": {},
   "source": [
    "Проверка прогнозирования на одном примере"
   ]
  },
  {
   "cell_type": "code",
   "execution_count": 67,
   "metadata": {},
   "outputs": [
    {
     "data": {
      "text/plain": [
       "array(['4009f09b04'], dtype=object)"
      ]
     },
     "execution_count": 67,
     "metadata": {},
     "output_type": "execute_result"
    }
   ],
   "source": [
    "classifier.predict(df_train[feature].head(1))"
   ]
  },
  {
   "cell_type": "code",
   "execution_count": 68,
   "metadata": {},
   "outputs": [
    {
     "data": {
      "text/plain": [
       "array([[ 65,  22,  94, 214,  61,  75,  49,  69, 207,  11, 179,  87, 155,\n",
       "         10, 110,  18,  47,  27, 198,  85, 105,  14, 174, 213,  98,  81,\n",
       "        142, 194, 136, 217]])"
      ]
     },
     "execution_count": 68,
     "metadata": {},
     "output_type": "execute_result"
    }
   ],
   "source": [
    "#На сайте запросы поступают по одному\n",
    "y_pred = classifier.predict_proba(df_train[feature].head(1))\n",
    "#минус перед y, чтобы сортировка шла по убыванию и можно было n вместо 30 брать\n",
    "#best_n = np.argsort(y_pred, axis=1)[:,-30:]\n",
    "best_n = np.argsort(-y_pred, axis=1)[:,0:30]\n",
    "best_n"
   ]
  },
  {
   "cell_type": "code",
   "execution_count": 69,
   "metadata": {
    "scrolled": true
   },
   "outputs": [
    {
     "name": "stdout",
     "output_type": "stream",
     "text": [
      "['4009f09b04', '15ccaa8685', '5cb93c9bc5', 'f4599ca21a', '3e038662c0', '4dcf79043e', '343e841aaa', '439498bce2', 'f098ee2a85', '0a46068efc', 'dc2001d036', '5645789fdf', 'bf07df54e1', '080ace8748', '729d6939be', '113e3ace79', '31dcf71bbd', '1c257c1a1b', 'ea27d5dc75', '53fc95e177', '6d0f84a0ac', '0cbc352942', 'd860464ae1', 'f43c12d228', '647c87e132', '5186e12ff4', 'ac81544ebc', 'e6f8ac5174', 'a02d521260', 'f7724d5786']\n"
     ]
    }
   ],
   "source": [
    "recommended = list(le.inverse_transform(best_n[0]))\n",
    "print(recommended)"
   ]
  },
  {
   "cell_type": "markdown",
   "metadata": {},
   "source": [
    "### Оценка по отложенной выборке"
   ]
  },
  {
   "cell_type": "code",
   "execution_count": 181,
   "metadata": {},
   "outputs": [],
   "source": [
    "#старая метрика метрика\n",
    "#def average_precision(actual, recommended):\n",
    "#    ap_sum = 0\n",
    "#    hits = 0\n",
    "#    for place, product_id in enumerate(recommended):\n",
    "#        k = place+1\n",
    "#        if product_id in actual:\n",
    "#            hits += 1\n",
    "#            ap_sum += hits / k\n",
    "    #return ap_sum / min(len(recommended), len(actual))\n",
    "#    return ap_sum / min(30, len(actual))"
   ]
  },
  {
   "cell_type": "code",
   "execution_count": 70,
   "metadata": {},
   "outputs": [],
   "source": [
    "def average_precision(actual, recommended, k=30):\n",
    "    ap_sum = 0\n",
    "    hits = 0\n",
    "    for i in range(k):\n",
    "        product_id = recommended[i] if i < len(recommended) else None\n",
    "        if product_id is not None and product_id in actual:\n",
    "            hits += 1\n",
    "            ap_sum += hits / (i + 1)\n",
    "    return ap_sum / k\n",
    "\n",
    "\n",
    "def normalized_average_precision(actual, recommended, k=30):\n",
    "    actual = set(actual)\n",
    "    if len(actual) == 0:\n",
    "        return 0.0\n",
    "    \n",
    "    ap = average_precision(actual, recommended, k=k)\n",
    "    ap_ideal = average_precision(actual, list(actual)[:k], k=k)\n",
    "    return ap / ap_ideal"
   ]
  },
  {
   "cell_type": "code",
   "execution_count": 71,
   "metadata": {},
   "outputs": [
    {
     "name": "stderr",
     "output_type": "stream",
     "text": [
      "100%|██████████| 11881/11881 [01:38<00:00, 120.49it/s]"
     ]
    },
    {
     "name": "stdout",
     "output_type": "stream",
     "text": [
      "0.07191154049866394\n",
      "CPU times: user 3min 25s, sys: 910 ms, total: 3min 26s\n",
      "Wall time: 1min 38s\n"
     ]
    },
    {
     "name": "stderr",
     "output_type": "stream",
     "text": [
      "\n"
     ]
    }
   ],
   "source": [
    "%%time\n",
    "#Строк больше 10 тыс. Это займет некоторое время\n",
    "client_list = list(df_hold.client_id.unique())\n",
    "ap_values = []\n",
    "\n",
    "for client_id in tqdm.tqdm(client_list):\n",
    "    df = df_hold[df_hold.client_id ==client_id]\n",
    "    y_pred = classifier.predict_proba(df[feature])#, num_iteration=classifier.best_iteration_\n",
    "    #n = int(df['product_len'].clip(1, 30))\n",
    "    n = 30\n",
    "    recommended = list(le.inverse_transform(np.argsort(-y_pred, axis=1)[:,0:n][0]))\n",
    "    #ap = average_precision(df['product_ids'].tolist()[0], recommended)\n",
    "    ap = normalized_average_precision(df['product_ids'].tolist()[0], recommended)\n",
    "    #print(ap)\n",
    "    ap_values.append(ap)\n",
    "map_score = sum(ap_values) / len(ap_values)\n",
    "print(map_score)"
   ]
  },
  {
   "cell_type": "markdown",
   "metadata": {},
   "source": [
    "В архив solution.zip необходимо положить следующие файлы:\n",
    "- metadata.json от организаторов, без изменения,\n",
    "- server.py основной код для загрузки файлов и предскзаний,\n",
    "- prod_enc.pkl метки для всех продуктов из трейна,\n",
    "- le.pkl таргет для этой модели,  \n",
    "- classifier.pkl сама модель.\n",
    "\n",
    "Надо учесть, что если будет предсказано 2 одинаковыхз товара, решение крашится"
   ]
  },
  {
   "cell_type": "code",
   "execution_count": null,
   "metadata": {},
   "outputs": [],
   "source": []
  }
 ],
 "metadata": {
  "kernelspec": {
   "display_name": "Python 3",
   "language": "python",
   "name": "python3"
  },
  "language_info": {
   "codemirror_mode": {
    "name": "ipython",
    "version": 3
   },
   "file_extension": ".py",
   "mimetype": "text/x-python",
   "name": "python",
   "nbconvert_exporter": "python",
   "pygments_lexer": "ipython3",
   "version": "3.6.9"
  }
 },
 "nbformat": 4,
 "nbformat_minor": 2
}
